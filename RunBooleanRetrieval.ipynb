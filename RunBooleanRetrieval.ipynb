{
 "cells": [
  {
   "cell_type": "code",
   "execution_count": 6,
   "id": "1efcaa91-1b9d-4189-9648-0fd25df98251",
   "metadata": {},
   "outputs": [
    {
     "name": "stderr",
     "output_type": "stream",
     "text": [
      "[nltk_data] Downloading package punkt to /home/emmanuel/nltk_data...\n",
      "[nltk_data]   Package punkt is already up-to-date!\n"
     ]
    }
   ],
   "source": [
    "import nltk\n",
    "nltk.download('punkt')\n",
    "\n",
    "from nltk.stem import PorterStemmer\n",
    "ps = PorterStemmer()"
   ]
  },
  {
   "cell_type": "code",
   "execution_count": 8,
   "id": "085bf32a-d033-463b-8749-3a64df022239",
   "metadata": {},
   "outputs": [],
   "source": [
    "class Node:\n",
    "    def __init__(self, item):\n",
    "        self.item = item\n",
    "        self.next = None\n",
    "\n",
    "class LL:\n",
    "    def __init__(self):\n",
    "        self.head = None\n",
    "    def add_node(self,val):\n",
    "        newNode = Node(val)\n",
    "        if not self.head:\n",
    "            self.head = newNode\n",
    "            return\n",
    "        temp = self.head\n",
    "        while temp:\n",
    "            if val == temp.item:\n",
    "                return\n",
    "            temp = temp.next\n",
    "        if self.head.item > val:\n",
    "            newNode.next = self.head\n",
    "            self.head = newNode\n",
    "            return\n",
    "        temp = self.head\n",
    "        while temp and temp.next:\n",
    "            if val < temp.next.item:\n",
    "                break\n",
    "            temp = temp.next\n",
    "        newNode.next = temp.next\n",
    "        temp.next = newNode\n",
    "                    \n",
    "    def print_list(self):\n",
    "        tmp = self.head\n",
    "        while tmp:\n",
    "            print(tmp.item, end=' ')\n",
    "            tmp = tmp.next"
   ]
  },
  {
   "cell_type": "code",
   "execution_count": 7,
   "id": "3806753a-ae9f-4a81-9426-47fff361e967",
   "metadata": {},
   "outputs": [],
   "source": [
    "import pickle\n",
    "\n",
    "with open(\"inverted_index.pkl\", \"rb\") as f:\n",
    "    inverted_index= pickle.load(f)\n",
    "\n",
    "with open(\"positional_index.pkl\", \"rb\") as f:\n",
    "    positional_index = pickle.load(f)"
   ]
  },
  {
   "cell_type": "code",
   "execution_count": 9,
   "id": "decc9892-55c5-45db-a6a8-b44f5bc7b3cd",
   "metadata": {},
   "outputs": [
    {
     "name": "stdin",
     "output_type": "stream",
     "text": [
      "Enter position query:  Hello World /2\n"
     ]
    },
    {
     "name": "stdout",
     "output_type": "stream",
     "text": [
      "[]\n"
     ]
    }
   ],
   "source": [
    "import re\n",
    "def evalPosQuery(term1, term2, k):\n",
    "    answer = []\n",
    "    def posIntersect(p1, p2, k, doc):\n",
    "        l = []\n",
    "        pp1 = p1.head\n",
    "        pp2 = p2.head\n",
    "        while pp1 is not None:\n",
    "            while pp2 is not None:\n",
    "                if abs(pp1.item - pp2.item) <= k:\n",
    "                    l.append(pp2.item)\n",
    "                    print(pp1.item, pp2.item)\n",
    "                elif pp2.item > pp1.item:\n",
    "                    break\n",
    "                pp2 = pp2.next\n",
    "            while l != [] and abs(l[0] - pp1.item) > k:\n",
    "                l.pop(0)\n",
    "            for ps in l:\n",
    "                answer.append([doc, pp1.item, ps])\n",
    "            pp1 = pp1.next\n",
    "    if positional_index.get(term1) and positional_index.get(term2):\n",
    "        for doc in docs:\n",
    "            print(doc)\n",
    "            if positional_index[term1].get(doc) and positional_index[term2].get(doc):\n",
    "                posIntersect(positional_index[ps.stem(term1)][doc], positional_index[ps.stem(term2)][doc], k, doc)\n",
    "            else:\n",
    "                continue\n",
    "    print(answer)    \n",
    "        \n",
    "\n",
    "posQuery = input('Enter position query: ')\n",
    "tkns = posQuery.split(' ')\n",
    "\n",
    "evalPosQuery(ps.stem(tkns[0]), ps.stem(tkns[1]), int(re.search(r'\\d+', tkns[2]).group()))"
   ]
  }
 ],
 "metadata": {
  "kernelspec": {
   "display_name": "Python 3 (ipykernel)",
   "language": "python",
   "name": "python3"
  },
  "language_info": {
   "codemirror_mode": {
    "name": "ipython",
    "version": 3
   },
   "file_extension": ".py",
   "mimetype": "text/x-python",
   "name": "python",
   "nbconvert_exporter": "python",
   "pygments_lexer": "ipython3",
   "version": "3.10.13"
  }
 },
 "nbformat": 4,
 "nbformat_minor": 5
}
