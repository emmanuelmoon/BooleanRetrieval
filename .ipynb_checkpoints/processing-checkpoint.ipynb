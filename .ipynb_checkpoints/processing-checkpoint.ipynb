{
 "cells": [
  {
   "cell_type": "code",
   "execution_count": 1,
   "id": "964342cb-388a-48c2-b967-5f25a27fea80",
   "metadata": {},
   "outputs": [
    {
     "name": "stderr",
     "output_type": "stream",
     "text": [
      "[nltk_data] Downloading package punkt to /home/emmanuel/nltk_data...\n",
      "[nltk_data]   Package punkt is already up-to-date!\n"
     ]
    },
    {
     "data": {
      "text/plain": [
       "True"
      ]
     },
     "execution_count": 1,
     "metadata": {},
     "output_type": "execute_result"
    }
   ],
   "source": [
    "import nltk\n",
    "nltk.download('punkt')"
   ]
  },
  {
   "cell_type": "code",
   "execution_count": 2,
   "id": "6f9528ad-8514-4b6e-9338-e7d77f43860a",
   "metadata": {},
   "outputs": [],
   "source": [
    "class Node:\n",
    "    def __init__(self, item):\n",
    "        self.item = item\n",
    "        self.next = None\n",
    "\n",
    "class LL:\n",
    "    def __init__(self):\n",
    "        self.head = None\n",
    "    def add_node(self,val):\n",
    "        newNode = Node(val)\n",
    "        if not self.head:\n",
    "            self.head = newNode\n",
    "            return\n",
    "        temp = self.head\n",
    "        while temp:\n",
    "            if val == temp.item:\n",
    "                return\n",
    "            temp = temp.next\n",
    "        if self.head.item > val:\n",
    "            newNode.next = self.head\n",
    "            self.head = newNode\n",
    "            return\n",
    "        temp = self.head\n",
    "        while temp and temp.next:\n",
    "            if val < temp.next.item:\n",
    "                break\n",
    "            temp = temp.next\n",
    "        newNode.next = temp.next\n",
    "        temp.next = newNode\n",
    "                    \n",
    "    def print_list(self):\n",
    "        tmp = self.head\n",
    "        while tmp:\n",
    "            print(tmp.item, end=' ')\n",
    "            tmp = tmp.next"
   ]
  },
  {
   "cell_type": "code",
   "execution_count": 3,
   "id": "f9b722bd-d5ed-4433-9189-c97582a337d5",
   "metadata": {},
   "outputs": [],
   "source": [
    "f = open('Stopword-List.txt', 'r')\n",
    "stop = f.read()"
   ]
  },
  {
   "cell_type": "code",
   "execution_count": 2,
   "id": "07f85b1c-90ce-41e8-856c-5e17749a276c",
   "metadata": {},
   "outputs": [],
   "source": [
    "pattern = r\"\\b(?![0-9])\\w+(?:\\w+)?|[^-_\\w\\s()@#$%^&*+={[\\]};,<>./?~`\\\"]\"\n",
    "\n",
    "def tokenize(text):\n",
    "    return re.findall(pattern, text)"
   ]
  },
  {
   "cell_type": "code",
   "execution_count": 1,
   "id": "33c8f116-e1cb-47b9-9487-2cfe98023488",
   "metadata": {},
   "outputs": [
    {
     "ename": "NameError",
     "evalue": "name 'tokenize' is not defined",
     "output_type": "error",
     "traceback": [
      "\u001b[0;31m---------------------------------------------------------------------------\u001b[0m",
      "\u001b[0;31mNameError\u001b[0m                                 Traceback (most recent call last)",
      "Cell \u001b[0;32mIn[1], line 19\u001b[0m\n\u001b[1;32m     17\u001b[0m docs\u001b[38;5;241m.\u001b[39madd(doc) \u001b[38;5;66;03m# Add document ID to the set of docs\u001b[39;00m\n\u001b[1;32m     18\u001b[0m \u001b[38;5;66;03m# Read and tokenize the text\u001b[39;00m\n\u001b[0;32m---> 19\u001b[0m tokens \u001b[38;5;241m=\u001b[39m \u001b[43mtokenize\u001b[49m(txt\u001b[38;5;241m.\u001b[39mread())\n\u001b[1;32m     21\u001b[0m \u001b[38;5;66;03m# Process each token\u001b[39;00m\n\u001b[1;32m     22\u001b[0m \u001b[38;5;28;01mfor\u001b[39;00m t \u001b[38;5;129;01min\u001b[39;00m tokens:\n",
      "\u001b[0;31mNameError\u001b[0m: name 'tokenize' is not defined"
     ]
    }
   ],
   "source": [
    "import os\n",
    "import re\n",
    "from nltk.stem import PorterStemmer\n",
    "\n",
    "ps = PorterStemmer()\n",
    "\n",
    "docs = set()\n",
    "dic = {}\n",
    "punc = ['!', '@', '#', '$', '%', '^', '&', '*', '(', ')', '-', '_', '+', '=', '{', '[', ']', '}', ':', ';', \"'\", '\"', ',', '<', '>', '.', '/', '?', '~', '`']\n",
    "\n",
    "for subdir, dirs, files in os.walk('ResearchPapers'):\n",
    "    for file in files:\n",
    "        with open(subdir + os.sep + file, 'r', encoding='cp1252') as txt:\n",
    "            # Extract document ID from the filename\n",
    "            doc = re.search('[0-9]*', file).group()\n",
    "            doc = int(doc)\n",
    "            docs.add(doc) # Add document ID to the set of docs\n",
    "            # Read and tokenize the text\n",
    "            tokens = tokenize(txt.read())\n",
    "            \n",
    "            # Process each token\n",
    "            for t in tokens:\n",
    "                if t not in stop and t not in punc:\n",
    "                    # Lowercase and stem the token\n",
    "                    term = ps.stem(t.lower())\n",
    "\n",
    "                    # Update the inverted index\n",
    "                    if term not in dic:\n",
    "                        # Create a new linked list (assumed to be defined as `LL` class) for the term\n",
    "                        dic[term] = LL()\n",
    "                    # Add the document ID to the term's postings list\n",
    "                    dic[term].add_node(doc)"
   ]
  },
  {
   "cell_type": "code",
   "execution_count": 6,
   "id": "b11e3b21-fe73-4163-9a8f-55df8abc29b3",
   "metadata": {},
   "outputs": [],
   "source": [
    "import pickle\n",
    "\n",
    "with open(\"inverted_index.pkl\", \"wb\") as f:\n",
    "    pickle.dump(dic, f)\n",
    "\n",
    "with open(\"docs.pkl\", \"wb\") as f:\n",
    "    pickle.dump(docs, f)"
   ]
  },
  {
   "cell_type": "code",
   "execution_count": 8,
   "id": "2e7b52c4-5130-4777-85ad-121506535730",
   "metadata": {},
   "outputs": [],
   "source": [
    "import os\n",
    "import re\n",
    "from nltk.stem import PorterStemmer\n",
    "\n",
    "ps = PorterStemmer()\n",
    "\n",
    "docs = set()\n",
    "\n",
    "posDic = {}\n",
    "punc = ['!', '@', '#', '$', '%', '^', '&', '*', '(', ')', '-', '_', '+', '=', '{', '[', ']', '}', ':', ';', \"'\", '\"', ',', '<', '>', '.', '/', '?', '~', '`']\n",
    "\n",
    "# Iterate through research papers directory\n",
    "for subdir, dirs, files in os.walk('ResearchPapers'):\n",
    "    for file in files:\n",
    "        # Open the text file\n",
    "        with open(subdir + os.sep + file, 'r', encoding='cp1252') as txt:\n",
    "            # Extract document ID from the filename\n",
    "            doc = re.search('[0-9]*', file).group()\n",
    "            doc = int(doc)\n",
    "            docs.add(doc) # Add document ID to the set\n",
    "\n",
    "            # Read and tokenize the text\n",
    "            tokens = tokenize(txt.read())\n",
    "            \n",
    "            # Process each token with its position\n",
    "            for index, t in enumerate(tokens):\n",
    "                # Exclude stopwords and punctuation\n",
    "                if t not in stop and t not in punc:\n",
    "                    # Lowercase and stem the token\n",
    "                    term = ps.stem(t.lower())\n",
    "\n",
    "                    # Update the positional inverted index\n",
    "                    if term not in posDic:\n",
    "                        # Create a new dictionary for this term\n",
    "                        posDic[term] = dict()\n",
    "                    if doc not in posDic[term]:\n",
    "                        # Create a new linked list for term in a doc\n",
    "                        posDic[term][doc] = LL()\n",
    "                    # Add the token's position\n",
    "                    posDic[term][doc].add_node(index)"
   ]
  },
  {
   "cell_type": "code",
   "execution_count": 9,
   "id": "8939e4db-492d-4598-9ebc-cb9dfbfa99e4",
   "metadata": {},
   "outputs": [],
   "source": [
    "# Save positional index as pickle file\n",
    "with open(\"positional_index.pkl\", \"wb\") as f:\n",
    "    pickle.dump(posDic, f)"
   ]
  }
 ],
 "metadata": {
  "kernelspec": {
   "display_name": "Python 3 (ipykernel)",
   "language": "python",
   "name": "python3"
  },
  "language_info": {
   "codemirror_mode": {
    "name": "ipython",
    "version": 3
   },
   "file_extension": ".py",
   "mimetype": "text/x-python",
   "name": "python",
   "nbconvert_exporter": "python",
   "pygments_lexer": "ipython3",
   "version": "3.10.13"
  }
 },
 "nbformat": 4,
 "nbformat_minor": 5
}
