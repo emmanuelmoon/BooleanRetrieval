{
 "cells": [
  {
   "cell_type": "code",
   "execution_count": 3,
   "id": "4abee8d4-d43d-4c65-9ec5-c0d8cbf050f9",
   "metadata": {},
   "outputs": [
    {
     "name": "stdout",
     "output_type": "stream",
     "text": [
      "Requirement already satisfied: nltk in /home/emmanuel/miniconda3/envs/retrieval/lib/python3.10/site-packages (3.8.1)\n",
      "Requirement already satisfied: click in /home/emmanuel/miniconda3/envs/retrieval/lib/python3.10/site-packages (from nltk) (8.1.7)\n",
      "Requirement already satisfied: joblib in /home/emmanuel/miniconda3/envs/retrieval/lib/python3.10/site-packages (from nltk) (1.2.0)\n",
      "Requirement already satisfied: regex>=2021.8.3 in /home/emmanuel/miniconda3/envs/retrieval/lib/python3.10/site-packages (from nltk) (2023.10.3)\n",
      "Requirement already satisfied: tqdm in /home/emmanuel/miniconda3/envs/retrieval/lib/python3.10/site-packages (from nltk) (4.65.0)\n"
     ]
    }
   ],
   "source": [
    "!pip install nltk"
   ]
  },
  {
   "cell_type": "code",
   "execution_count": 4,
   "id": "1efcaa91-1b9d-4189-9648-0fd25df98251",
   "metadata": {},
   "outputs": [
    {
     "name": "stderr",
     "output_type": "stream",
     "text": [
      "[nltk_data] Downloading package punkt to /home/emmanuel/nltk_data...\n",
      "[nltk_data]   Package punkt is already up-to-date!\n"
     ]
    }
   ],
   "source": [
    "import nltk\n",
    "nltk.download('punkt')\n",
    "\n",
    "from nltk.stem import PorterStemmer\n",
    "ps = PorterStemmer()"
   ]
  },
  {
   "cell_type": "code",
   "execution_count": 5,
   "id": "085bf32a-d033-463b-8749-3a64df022239",
   "metadata": {},
   "outputs": [],
   "source": [
    "class Node:\n",
    "    def __init__(self, item):\n",
    "        self.item = item\n",
    "        self.next = None\n",
    "\n",
    "class LL:\n",
    "    def __init__(self):\n",
    "        self.head = None\n",
    "    def add_node(self,val):\n",
    "        newNode = Node(val)\n",
    "        if not self.head:\n",
    "            self.head = newNode\n",
    "            return\n",
    "        temp = self.head\n",
    "        while temp:\n",
    "            if val == temp.item:\n",
    "                return\n",
    "            temp = temp.next\n",
    "        if self.head.item > val:\n",
    "            newNode.next = self.head\n",
    "            self.head = newNode\n",
    "            return\n",
    "        temp = self.head\n",
    "        while temp and temp.next:\n",
    "            if val < temp.next.item:\n",
    "                break\n",
    "            temp = temp.next\n",
    "        newNode.next = temp.next\n",
    "        temp.next = newNode\n",
    "                    \n",
    "    def print_list(self):\n",
    "        tmp = self.head\n",
    "        while tmp:\n",
    "            print(tmp.item, end=' ')\n",
    "            tmp = tmp.next"
   ]
  },
  {
   "cell_type": "code",
   "execution_count": 6,
   "id": "3806753a-ae9f-4a81-9426-47fff361e967",
   "metadata": {},
   "outputs": [],
   "source": [
    "import pickle\n",
    "\n",
    "with open(\"inverted_index.pkl\", \"rb\") as f:\n",
    "    inverted_index= pickle.load(f)\n",
    "\n",
    "with open(\"positional_index.pkl\", \"rb\") as f:\n",
    "    positional_index = pickle.load(f)\n",
    "\n",
    "with open(\"docs.pkl\", \"rb\") as f:\n",
    "    docs = pickle.load(f)"
   ]
  },
  {
   "cell_type": "code",
   "execution_count": 10,
   "id": "decc9892-55c5-45db-a6a8-b44f5bc7b3cd",
   "metadata": {},
   "outputs": [],
   "source": [
    "import re\n",
    "def evalPosQuery(term1, term2, k):\n",
    "    answer = []\n",
    "    def posIntersect(p1, p2, k, doc):\n",
    "        l = []\n",
    "        pp1 = p1.head\n",
    "        pp2 = p2.head\n",
    "        while pp1 is not None:\n",
    "            while pp2 is not None:\n",
    "                if abs(pp1.item - pp2.item) <= k:\n",
    "                    l.append(pp2.item)\n",
    "                elif pp2.item > pp1.item:\n",
    "                    break\n",
    "                pp2 = pp2.next\n",
    "            while l != [] and abs(l[0] - pp1.item) > k:\n",
    "                l.pop(0)\n",
    "            for ps in l:\n",
    "                answer.append([doc, pp1.item, ps])\n",
    "            pp1 = pp1.next\n",
    "    if positional_index.get(term1) and positional_index.get(term2):\n",
    "        for doc in docs:\n",
    "            if positional_index[term1].get(doc) and positional_index[term2].get(doc):\n",
    "                posIntersect(positional_index[term1][doc], positional_index[term2][doc], k, doc)\n",
    "            else:\n",
    "                continue\n",
    "    return answer"
   ]
  },
  {
   "cell_type": "code",
   "execution_count": null,
   "id": "059257c5-47f9-4fa5-aefb-4c329a0b5cbc",
   "metadata": {},
   "outputs": [],
   "source": [
    "import tkinter as tk\n",
    "from tkinter import ttk\n",
    "import re\n",
    "from random import choice  # Assuming you have 'choice' from the random module\n",
    "# Import necessary functions from your code, e.g., evalPosQuery, ps, etc.\n",
    "\n",
    "def search_proximity():\n",
    "    # Get the proximity query from the user\n",
    "    query = entry.get()\n",
    "\n",
    "    tkns = query.split(' ')\n",
    "    answer = evalPosQuery(ps.stem(tkns[0]), ps.stem(tkns[1]), int(re.search(r'\\d+', tkns[2]).group()))\n",
    "\n",
    "    table = ttk.Treeview(root, columns=('doc', 'first', 'second'), show='headings')\n",
    "    table.heading('doc', text='Document ID')\n",
    "    table.heading('first', text='First word index')\n",
    "    table.heading('second', text='Second word index')\n",
    "    table.grid(row=2, column=0, columnspan=2, sticky=\"nsew\")\n",
    "\n",
    "    for i in range(len(answer)):\n",
    "        doc = answer[i][0]\n",
    "        first_idx = answer[i][1]\n",
    "        second_idx = answer[i][2]\n",
    "        data = (doc, first_idx, second_idx)\n",
    "        table.insert(parent='', index=i, values=data)\n",
    "\n",
    "    # Insert a default value at the end\n",
    "    table.insert(parent='', index=tk.END, values=('XXXXX', 'YYYYY', 'ZZZZZ'))\n",
    "\n",
    "# Create the main Tkinter window\n",
    "root = tk.Tk()\n",
    "root.title(\"Proximity Query Search\")\n",
    "\n",
    "# Create an input entry widget\n",
    "entry = tk.Entry(root, width=30)\n",
    "entry.grid(row=0, column=0, padx=10, pady=10, columnspan=2)\n",
    "\n",
    "# Create a button to trigger the search\n",
    "search_button = tk.Button(root, text=\"Search\", command=search_proximity)\n",
    "search_button.grid(row=1, column=0, padx=10, pady=10, columnspan=2)\n",
    "\n",
    "# Create a label to display the output\n",
    "output_label = tk.Label(root, text=\"\")\n",
    "output_label.grid(row=3, column=0, columnspan=2, padx=10, pady=10)\n",
    "\n",
    "# Set row and column weights for resizing\n",
    "root.grid_rowconfigure(2, weight=1)\n",
    "root.grid_columnconfigure(0, weight=1)\n",
    "root.grid_columnconfigure(1, weight=1)\n",
    "\n",
    "# Start the Tkinter event loop\n",
    "root.mainloop()"
   ]
  }
 ],
 "metadata": {
  "kernelspec": {
   "display_name": "Python 3 (ipykernel)",
   "language": "python",
   "name": "python3"
  },
  "language_info": {
   "codemirror_mode": {
    "name": "ipython",
    "version": 3
   },
   "file_extension": ".py",
   "mimetype": "text/x-python",
   "name": "python",
   "nbconvert_exporter": "python",
   "pygments_lexer": "ipython3",
   "version": "3.10.13"
  }
 },
 "nbformat": 4,
 "nbformat_minor": 5
}
